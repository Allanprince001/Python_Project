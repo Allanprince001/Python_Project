{
 "cells": [
  {
   "cell_type": "markdown",
   "id": "3f236fa8-0fec-4959-b76d-6f0d96687b05",
   "metadata": {},
   "source": [
    "# Data Science Tools and Ecosystem"
   ]
  },
  {
   "cell_type": "markdown",
   "id": "c627d70d-9335-4914-b3a1-6e7fa80ba31c",
   "metadata": {},
   "source": [
    "In this notebook, Data Science Tools and Ecosystem are summarised"
   ]
  },
  {
   "cell_type": "markdown",
   "id": "64ada4ba-9c00-43d6-a11d-751461749421",
   "metadata": {},
   "source": [
    "**Objectives:**\n",
    "- List popular languages for data science\n",
    "- List commonly used libraries by data scientists.\n",
    "- Create a table of data science tools.\n",
    "- perform simple arithmetic operations using python.\n"
   ]
  },
  {
   "cell_type": "markdown",
   "id": "772b3a15-8547-4e40-bef4-4e08f2032fd8",
   "metadata": {},
   "source": [
    "Some of the popular languages that Data Scientist use are:\n",
    "1. Python\n",
    "2. SQL\n",
    "3. R\n",
    "4. Javascript"
   ]
  },
  {
   "cell_type": "markdown",
   "id": "4895a61a-41bc-4b94-a216-c5f6452363bd",
   "metadata": {},
   "source": [
    "Some of the commonly used libraries used by Data Scientists include:\n",
    "1. Pandas\n",
    "2. Matplotlib\n",
    "3. ggplot\n",
    "4. Scikit learn"
   ]
  },
  {
   "cell_type": "markdown",
   "id": "8a8876f4-a2ec-48f8-8072-d600cf6ff8f8",
   "metadata": {},
   "source": [
    "Some of the development environment open source tools used in data science are:\n",
    "|Data Science Tools|\n",
    "|------------------|\n",
    "|RStudio|\n",
    "|TensorFlow|\n",
    "|Apache Spark|\n",
    "|Apache Hadoop|"
   ]
  },
  {
   "cell_type": "markdown",
   "id": "c2ddf140-19a8-428a-b78a-0426e03d9ad0",
   "metadata": {},
   "source": [
    "### Below are a few examples of evaluating arithmetic expressions in python"
   ]
  },
  {
   "cell_type": "code",
   "execution_count": 2,
   "id": "79e725cb-f390-469d-ab40-6fd646f06cc4",
   "metadata": {
    "tags": []
   },
   "outputs": [
    {
     "data": {
      "text/plain": [
       "17"
      ]
     },
     "execution_count": 2,
     "metadata": {},
     "output_type": "execute_result"
    }
   ],
   "source": [
    "#This is a simple arithmetic expression to multiply then add integers\n",
    "result = (3*4)+5\n",
    "result"
   ]
  },
  {
   "cell_type": "code",
   "execution_count": 3,
   "id": "e102419a-980e-421f-a66c-e8ce18b5575b",
   "metadata": {
    "tags": []
   },
   "outputs": [
    {
     "data": {
      "text/plain": [
       "3.3333333333333335"
      ]
     },
     "execution_count": 3,
     "metadata": {},
     "output_type": "execute_result"
    }
   ],
   "source": [
    "#This function will convert minutes to hours by dividing by 60\n",
    "def hours(minutes):\n",
    "    hrs = minutes/60\n",
    "    return hrs\n",
    "\n",
    "hours(200)"
   ]
  },
  {
   "cell_type": "markdown",
   "id": "fab29ec6-7116-45ac-9a92-0f0fd4627646",
   "metadata": {},
   "source": [
    "## Author\n"
   ]
  }
 ],
 "metadata": {
  "kernelspec": {
   "display_name": "Python 3 (ipykernel)",
   "language": "python",
   "name": "python3"
  },
  "language_info": {
   "codemirror_mode": {
    "name": "ipython",
    "version": 3
   },
   "file_extension": ".py",
   "mimetype": "text/x-python",
   "name": "python",
   "nbconvert_exporter": "python",
   "pygments_lexer": "ipython3",
   "version": "3.11.3"
  }
 },
 "nbformat": 4,
 "nbformat_minor": 5
}
